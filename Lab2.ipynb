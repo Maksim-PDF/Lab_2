{
 "cells": [
  {
   "cell_type": "code",
   "execution_count": null,
   "id": "77a9c5fa",
   "metadata": {},
   "outputs": [],
   "source": [
    "# Задача 1\n",
    "\n",
    "#Что будет результатом следующих выражений?\n",
    "#3: [9,8,7,6,5,4,3,2,1][-3:]\n",
    "#7: \"too soon to tell\".replace('o','*').replace('* ','')\n",
    "\n",
    "# Выражение 1: [9,8,7,6,5,4,3,2,1][-3:] \n",
    "# Ответ: [3, 2, 1]\n",
    "\n",
    "# Выражение 2:  \"too soon to tell\".replace('o','*').replace('* ','')\n",
    "# Ответ: \"t* s*ntell\""
   ]
  },
  {
   "cell_type": "code",
   "execution_count": null,
   "id": "fe5bc3b7",
   "metadata": {},
   "outputs": [],
   "source": [
    "# Задача 2\n",
    "s = input(\"Введите строку: \")\n",
    "reversed_str = \"\"\n",
    "for char in s:\n",
    "\treversed_str = char + reversed_str\n",
    "print(reversed_str)"
   ]
  },
  {
   "cell_type": "code",
   "execution_count": null,
   "id": "00695a17",
   "metadata": {},
   "outputs": [],
   "source": [
    "# Задача 3\n",
    "lst = [1, 2, 2, 3, 4, 4, 5, 1, 6, 2, 7]\n",
    "print(f\"Исходный список: {lst}\")\n",
    "\t     \n",
    "result3 = []\n",
    "for item in lst:\n",
    "    if item not in result3:\n",
    "        result3.append(item)\n",
    "print(f\"Вывод: {result3}\")"
   ]
  },
  {
   "cell_type": "code",
   "execution_count": null,
   "id": "bef85d7d",
   "metadata": {},
   "outputs": [],
   "source": [
    "# Задача 4\n",
    "\n",
    "d = { \"name\": \"Alex\", \"age\": 21, \"city\": \"Moscow\", \"grade\": \"A\"}\n",
    "\t \n",
    "print(\"Исходный словарь:\", d)\n",
    " \n",
    "# Ввод ключа для удаления\n",
    "key = input(\"Введите ключ для удаления: \")\n",
    "\t \n",
    "if key in d:\n",
    "    d.pop(key)\n",
    "    print(\"Словарь после удаления (pop):\", d)\n",
    "else:\n",
    "    print(\"Ключа\", key, \"нет в словаре\")\n"
   ]
  },
  {
   "cell_type": "code",
   "execution_count": 13,
   "id": "2add0fe3",
   "metadata": {},
   "outputs": [
    {
     "name": "stdout",
     "output_type": "stream",
     "text": [
      "Исходный кортеж: (('name', 'Alex'), ('age', 21), ('city', 'Moscow'))\n",
      "Словарь (через dict): {'name': 'Alex', 'age': 21, 'city': 'Moscow'}\n"
     ]
    }
   ],
   "source": [
    "# Задача 5\n",
    "# Исходный кортеж (список пар \"ключ-значение\")\n",
    "t = ((\"name\", \"Alex\"), (\"age\", 21), (\"city\", \"Moscow\"))\n",
    "\t \n",
    "print(\"Исходный кортеж:\", t)\n",
    "\t \n",
    "d1 = dict(t)\n",
    "print(\"Словарь (через dict):\", d1)\n",
    "\t \n"
   ]
  },
  {
   "cell_type": "code",
   "execution_count": null,
   "id": "36f982ad",
   "metadata": {},
   "outputs": [],
   "source": [
    "# Задача 6\n",
    "def simple_file_operations():\n",
    "    \"\"\"Простая версия скрипта\"\"\"\n",
    "    filename = \"text_file.txt\"\n",
    "\t     \n",
    "# Добавление текста в файл\n",
    "    text = input(\"Введите текст для добавления в файл: \")\n",
    "    with open(filename, 'a', encoding='utf-8') as file:\n",
    "        file.write(text + '\\n')\n",
    "    print(\"Текст добавлен в файл!\")\n",
    "    \n",
    "# Отображение содержимого файла\n",
    "    print(\"\\nСодержимое файла:\")\n",
    "    with open(filename, 'r', encoding='utf-8') as file:\n",
    "        print(file.read())\n",
    "\t \n",
    "def simple_copy():\n",
    "        \"\"\"Простое копирование файла\"\"\"\n",
    "        source = input(\"Введите имя исходного файла: \")\n",
    "        target = input(\"Введите имя целевого файла: \")\n",
    "     \n",
    "        try:\n",
    "            with open(source, 'r', encoding='utf-8') as src:\n",
    "                content = src.read()\n",
    "         \n",
    "            with open(target, 'w', encoding='utf-8') as tgt:\n",
    "                tgt.write(content)\n",
    "         \n",
    "            print(f\"Файл '{source}' скопирован в '{target}'\")\n",
    "\t         \n",
    "        except FileNotFoundError:\n",
    "            print(\"Ошибка: файл не найден!\")\n",
    "        except Exception as e:\n",
    "            print(f\"Ошибка: {e}\")\n",
    "\n",
    "if __name__ == \"__main__\":\n",
    "    simple_file_operations()\n",
    "    print(\"\\n\" + \"=\"*30)\n",
    "    simple_copy()"
   ]
  },
  {
   "cell_type": "code",
   "execution_count": null,
   "id": "3d259f1e",
   "metadata": {},
   "outputs": [],
   "source": [
    "# Задача 7\n",
    "import pickle\n",
    "\t \n",
    "\t# Наш список\n",
    "data = [1, 2, 3, \"hello\", [4, 5, 6]]\n",
    "\t \n",
    "\t# === Запись списка в файл ===\n",
    "with open(\"list.pkl\", \"wb\") as f:  \n",
    "\tpickle.dump(data, f)\n",
    "\tprint(\"Список записан в файл list.pkl\")\n",
    "\t \n",
    "\t# === Чтение списка из файла ===\n",
    "with open(\"list.pkl\", \"rb\") as f:  \n",
    "\tloaded_data = pickle.load(f)\t \n",
    "\tprint(\"Содержимое файла list.pkl:\", loaded_data)"
   ]
  },
  {
   "cell_type": "code",
   "execution_count": null,
   "id": "9fb69192",
   "metadata": {},
   "outputs": [],
   "source": [
    "# Задача 8\n",
    "import json\n",
    "\t \n",
    "\t# Наш словарь\n",
    "data = {\"name\": \"Alex\", \"age\": 21, \"city\": \"Moscow\", \"grade\": \"A\"}\n",
    "\t \n",
    "\t# === Запись словаря в файл ===\n",
    "with open(\"data.json\", \"w\", encoding=\"utf-8\") as f:\n",
    "\tjson.dump(data, f, ensure_ascii=False, indent=4)\n",
    "print(\"Словарь записан в файл data.json\")\n",
    "\t \n",
    "\t# === Чтение словаря из файла ===\n",
    "with open(\"data.json\", \"r\", encoding=\"utf-8\") as f:\n",
    "\tloaded_data = json.load(f)\t \n",
    "print(\"Содержимое файла data.json:\", loaded_data)"
   ]
  }
 ],
 "metadata": {
  "kernelspec": {
   "display_name": "Python 3",
   "language": "python",
   "name": "python3"
  },
  "language_info": {
   "codemirror_mode": {
    "name": "ipython",
    "version": 3
   },
   "file_extension": ".py",
   "mimetype": "text/x-python",
   "name": "python",
   "nbconvert_exporter": "python",
   "pygments_lexer": "ipython3",
   "version": "3.13.7"
  }
 },
 "nbformat": 4,
 "nbformat_minor": 5
}
